{
 "cells": [
  {
   "cell_type": "markdown",
   "metadata": {},
   "source": [
    "<div style=\"background-color:lightgreen; border-style: double;border-color: #00beef;text-align:center;color:blue;font-size:25px;border-radius: 50px;padding: 20px 20px; font-family:Raleway;\"><strong> Gashaw M. Goshu, Ph.D. in Chemistry</strong></div>"
   ]
  },
  {
   "cell_type": "markdown",
   "metadata": {},
   "source": [
    "<div style= \" border-style:double;text-align:left;color:blue;font-size:18px;border-radius: 10px;padding: 20px 20px;\">\n",
    "<h3> Implementing  Water Solubility Prediction Web App from Scratch </h3><br>\n",
    "=================================================================================================\n",
    "<div style= \"text-align:left;color:darkgreen;font-size:16px;border-radius:10px;\">\n",
    "<h4> Part I:  </h4><br>\n",
    "1.\tGet Solubility Data and Clean the Data<br>\n",
    "2.\tGenerate Molecular Descriptors or Features<br>\n",
    "3.\tSplit Compounds for Training and Test set<br>\n",
    "4.\tSelect Machine Learning Models (<b>42</b> ML models)<br>\n",
    "5.\tFine-tune the Selected Model <br>\n",
    "6.  Use the Optimal Model for Test data<br>\n",
    "7.  Save the Trained Model and Standard Scaler for New Data<br>\n",
    "</div></div>\n",
    "\n",
    "<h3 style=\"color:blue\">Brief Introduction</h3><br>\n",
    "<b>Solubility</b> is defined as the maximum amount of solute that will dissolve in a given amount of solvent to form a saturated solution at a specified temperature, usually at room temperature.\n",
    "<div>\n",
    "    <table>\n",
    "        <tr> <td><img src=\"solution.jpg\"; width=\"700px\"; align=\"left\";alt=\"picture of saturated solution\"></td>\n",
    "             <td><img src=\"solubility.jpg\"; width=\"300px\"; align=\"left\";alt=\"picture of saturated solution\"></td>           \n",
    "        <tr/>\n",
    "    </table>\n",
    "</div>\n",
    "<br>Remember the principle <i style=\"color:red\">\"like dissolves like\"</i>, which means that molecules with similar polarities and intermolecular forces are more likely to dissolve in each other.<br>\n",
    "<b>Water solubility</b> is an important property in drug discovery because it affects <i style=\"color:red\">bioavailability</i>, which is <i> the extent to which a drug can be absorbed and reach its target site </i>. Even we cannot perform a biological assay if a compound does not dissolve in water.<br>\n",
    "This implies the molecular structure of a compound can significantly influence its solubility. Polar or ionizable groups, such as carboxylic acid or amine groups, can increase water solubility, while nonpolar groups, such as long hydrocarbon chains, can decrease solubility.\n",
    "In this case, <b style=\"color:blue\"> we will use the 200 RDKit molecular descriptors, <i>which are numerical representations of a molecular structure<i>, as input features to predict aqueous solubility.<br><br>\n",
    "<div>\n",
    "<img src=\"descriptors.jpg\";width=\"500px\";align=\"left\">\n",
    "</div>"
   ]
  },
  {
   "cell_type": "code",
   "execution_count": 1,
   "metadata": {},
   "outputs": [],
   "source": [
    "### Import Relevant libraries\n",
    "import warnings\n",
    "warnings.filterwarnings(\"ignore\")\n",
    "#----------------------------------\n",
    "import numpy as np\n",
    "import pandas as pd\n",
    "#----------------------------------\n",
    "from matplotlib import pyplot as plt\n",
    "import matplotlib.patches as mpatches\n",
    "import seaborn as sn\n",
    "#----------------------------------\n",
    "from sklearn.model_selection import train_test_split\n",
    "from sklearn.preprocessing import StandardScaler\n",
    "from sklearn.metrics import r2_score, mean_squared_error\n",
    "from lightgbm import LGBMRegressor\n",
    "#----------------------------------\n",
    "# helps to train 42 ML models with a single line of code\n",
    "import lazypredict\n",
    "from lazypredict.Supervised import LazyRegressor\n",
    "from tqdm import tqdm\n",
    "#----------------------------------\n",
    "from rdkit.Chem import AllChem\n",
    "from rdkit import Chem\n",
    "from rdkit.Chem import Descriptors\n",
    "from rdkit.ML.Descriptors import MoleculeDescriptors"
   ]
  },
  {
   "cell_type": "markdown",
   "metadata": {},
   "source": [
    "<div style= \"background-color: lightcyan;text-align:left;color:blue;font-size:20px;border-radius: 10px;padding: 20px 20px;\">\n",
    "1. Get Solubility Data and Perform Exploratory Data Analysis (EDA)</div>\n",
    "\n",
    "\n",
    "- SMILES strings and aqueous solubility in logS (mol/L) of compounds were taken from publication by [Cui, Qiuji, et al.](https://www.frontiersin.org/articles/10.3389/fonc.2020.00121/full).\n",
    "-[Pat Walters - Blogpost](https://practicalcheminformatics.blogspot.com/2018/09/predicting-aqueous-solubility-its.html)  is an excellent blogpost for aqueous solubility."
   ]
  },
  {
   "cell_type": "code",
   "execution_count": 2,
   "metadata": {},
   "outputs": [],
   "source": [
    "# open a file containing descriptors and yield\n",
    "data = pd.read_csv(r\"D:\\Aqueous solubility_9945.csv\")"
   ]
  },
  {
   "cell_type": "code",
   "execution_count": 3,
   "metadata": {},
   "outputs": [
    {
     "data": {
      "text/plain": [
       "(9956, 6)"
      ]
     },
     "execution_count": 3,
     "metadata": {},
     "output_type": "execute_result"
    }
   ],
   "source": [
    "data.shape"
   ]
  },
  {
   "cell_type": "code",
   "execution_count": 4,
   "metadata": {},
   "outputs": [
    {
     "data": {
      "text/html": [
       "<div>\n",
       "<style scoped>\n",
       "    .dataframe tbody tr th:only-of-type {\n",
       "        vertical-align: middle;\n",
       "    }\n",
       "\n",
       "    .dataframe tbody tr th {\n",
       "        vertical-align: top;\n",
       "    }\n",
       "\n",
       "    .dataframe thead th {\n",
       "        text-align: right;\n",
       "    }\n",
       "</style>\n",
       "<table border=\"1\" class=\"dataframe\">\n",
       "  <thead>\n",
       "    <tr style=\"text-align: right;\">\n",
       "      <th></th>\n",
       "      <th>Compound ID</th>\n",
       "      <th>InChIKey</th>\n",
       "      <th>SMILES</th>\n",
       "      <th>logS</th>\n",
       "      <th>logP</th>\n",
       "      <th>MW</th>\n",
       "    </tr>\n",
       "  </thead>\n",
       "  <tbody>\n",
       "    <tr>\n",
       "      <th>0</th>\n",
       "      <td>C1711</td>\n",
       "      <td>ACTIUHUUMQJHFO-UPTCCGCDSA-N</td>\n",
       "      <td>COC1=C(OC)C(=O)C(=C(C1=O)C/C=C(/CC/C=C(/CC/C=C...</td>\n",
       "      <td>-18.22</td>\n",
       "      <td>17.85</td>\n",
       "      <td>863.34</td>\n",
       "    </tr>\n",
       "    <tr>\n",
       "      <th>1</th>\n",
       "      <td>C1712</td>\n",
       "      <td>CQISYTXUORWJSX-UHFFFAOYSA-N</td>\n",
       "      <td>CCCCCCCCCCCCCCCCCC(=O)Nc1ccc(cc1)NC(=O)CCCCCCC...</td>\n",
       "      <td>-17.47</td>\n",
       "      <td>14.23</td>\n",
       "      <td>641.07</td>\n",
       "    </tr>\n",
       "    <tr>\n",
       "      <th>2</th>\n",
       "      <td>C1713</td>\n",
       "      <td>UXPYIAWFQKSHNV-UHFFFAOYSA-N</td>\n",
       "      <td>CCCCCCCCCCCCCCCC(=O)OCCCCOC(=O)CCCCCCCCCCCCCCC</td>\n",
       "      <td>-16.26</td>\n",
       "      <td>11.82</td>\n",
       "      <td>566.94</td>\n",
       "    </tr>\n",
       "    <tr>\n",
       "      <th>3</th>\n",
       "      <td>C1714</td>\n",
       "      <td>BDIWFCKBPZPBQT-UHFFFAOYSA-N</td>\n",
       "      <td>CCCC[Sn](S[Sn](CCCC)(CCCC)CCCC)(CCCC)CCCC</td>\n",
       "      <td>-15.68</td>\n",
       "      <td>10.41</td>\n",
       "      <td>612.15</td>\n",
       "    </tr>\n",
       "    <tr>\n",
       "      <th>4</th>\n",
       "      <td>C1715</td>\n",
       "      <td>RNPXCFINMKSQPQ-UHFFFAOYSA-N</td>\n",
       "      <td>CCCCCCCCCCCCCCCCOP(=O)(OCCCCCCCCCCCCCCCC)O</td>\n",
       "      <td>-15.21</td>\n",
       "      <td>12.08</td>\n",
       "      <td>546.85</td>\n",
       "    </tr>\n",
       "  </tbody>\n",
       "</table>\n",
       "</div>"
      ],
      "text/plain": [
       "  Compound ID                     InChIKey  \\\n",
       "0       C1711  ACTIUHUUMQJHFO-UPTCCGCDSA-N   \n",
       "1       C1712  CQISYTXUORWJSX-UHFFFAOYSA-N   \n",
       "2       C1713  UXPYIAWFQKSHNV-UHFFFAOYSA-N   \n",
       "3       C1714  BDIWFCKBPZPBQT-UHFFFAOYSA-N   \n",
       "4       C1715  RNPXCFINMKSQPQ-UHFFFAOYSA-N   \n",
       "\n",
       "                                              SMILES   logS  logP     MW  \n",
       "0  COC1=C(OC)C(=O)C(=C(C1=O)C/C=C(/CC/C=C(/CC/C=C... -18.22 17.85 863.34  \n",
       "1  CCCCCCCCCCCCCCCCCC(=O)Nc1ccc(cc1)NC(=O)CCCCCCC... -17.47 14.23 641.07  \n",
       "2     CCCCCCCCCCCCCCCC(=O)OCCCCOC(=O)CCCCCCCCCCCCCCC -16.26 11.82 566.94  \n",
       "3          CCCC[Sn](S[Sn](CCCC)(CCCC)CCCC)(CCCC)CCCC -15.68 10.41 612.15  \n",
       "4         CCCCCCCCCCCCCCCCOP(=O)(OCCCCCCCCCCCCCCCC)O -15.21 12.08 546.85  "
      ]
     },
     "execution_count": 4,
     "metadata": {},
     "output_type": "execute_result"
    }
   ],
   "source": [
    "data.head()"
   ]
  },
  {
   "cell_type": "markdown",
   "metadata": {},
   "source": [
    "<div style= \" text-align:left;color:red;font-size:25px;border-radius: 10px;padding: 20px 20px;\">\n",
    "1.1  Remove NaN or null values\n",
    "</div>"
   ]
  },
  {
   "cell_type": "code",
   "execution_count": 5,
   "metadata": {},
   "outputs": [
    {
     "data": {
      "text/plain": [
       "13"
      ]
     },
     "execution_count": 5,
     "metadata": {},
     "output_type": "execute_result"
    }
   ],
   "source": [
    "# Calculate the number of null values for SMILES\n",
    "data.SMILES.isnull().sum()"
   ]
  },
  {
   "cell_type": "code",
   "execution_count": 6,
   "metadata": {},
   "outputs": [],
   "source": [
    "# remove NaN values\n",
    "data.dropna(inplace=True)"
   ]
  },
  {
   "cell_type": "code",
   "execution_count": 7,
   "metadata": {},
   "outputs": [
    {
     "data": {
      "text/plain": [
       "(9943, 6)"
      ]
     },
     "execution_count": 7,
     "metadata": {},
     "output_type": "execute_result"
    }
   ],
   "source": [
    "data.shape"
   ]
  },
  {
   "cell_type": "markdown",
   "metadata": {},
   "source": [
    "<div style= \" text-align:left;color:red;font-size:25px;border-radius: 10px;padding: 20px 20px;\">\n",
    "1.2  Remove outliers\n",
    "</div>"
   ]
  },
  {
   "cell_type": "code",
   "execution_count": 8,
   "metadata": {},
   "outputs": [
    {
     "data": {
      "text/plain": [
       "<seaborn.axisgrid.FacetGrid at 0x270926ca2b0>"
      ]
     },
     "execution_count": 8,
     "metadata": {},
     "output_type": "execute_result"
    },
    {
     "data": {
      "image/png": "[encoded data removed]",
      "text/plain": [
       "<Figure size 360x360 with 1 Axes>"
      ]
     },
     "metadata": {},
     "output_type": "display_data"
    }
   ],
   "source": [
    "# Generate histogram\n",
    "# left skewed or negative skew\n",
    "sn.set_theme()\n",
    "sn.displot(data=data, x=\"logS\", binwidth=1)"
   ]
  },
  {
   "cell_type": "code",
   "execution_count": 9,
   "metadata": {},
   "outputs": [
    {
     "data": {
      "text/plain": [
       "<matplotlib.axes._subplots.AxesSubplot at 0x270b7d60b20>"
      ]
     },
     "execution_count": 9,
     "metadata": {},
     "output_type": "execute_result"
    },
    {
     "data": {
      "image/png": "[encoded data removed]",
      "text/plain": [
       "<Figure size 432x288 with 1 Axes>"
      ]
     },
     "metadata": {},
     "output_type": "display_data"
    }
   ],
   "source": [
    "# Boxplot  \n",
    "sn.boxplot(data=data, x='logS')"
   ]
  },
  {
   "cell_type": "code",
   "execution_count": 10,
   "metadata": {},
   "outputs": [
    {
     "data": {
      "text/plain": [
       "<seaborn.axisgrid.FacetGrid at 0x270b7ce3d90>"
      ]
     },
     "execution_count": 10,
     "metadata": {},
     "output_type": "execute_result"
    },
    {
     "data": {
      "image/png": "[encoded data removed]",
      "text/plain": [
       "<Figure size 360x360 with 1 Axes>"
      ]
     },
     "metadata": {},
     "output_type": "display_data"
    }
   ],
   "source": [
    "#### filter compounds that follow as close as normal distribution\n",
    "data_new = data[data.logS.apply(lambda x: x > -7.5 and x < 1.7)]\n",
    "# Generate histogram\n",
    "sn.displot(data=data_new, x='logS', binwidth=1,kde=True)"
   ]
  },
  {
   "cell_type": "code",
   "execution_count": 11,
   "metadata": {},
   "outputs": [
    {
     "data": {
      "text/plain": [
       "<matplotlib.axes._subplots.AxesSubplot at 0x270b9e623a0>"
      ]
     },
     "execution_count": 11,
     "metadata": {},
     "output_type": "execute_result"
    },
    {
     "data": {
      "image/png": "[encoded data removed]",
      "text/plain": [
       "<Figure size 432x288 with 1 Axes>"
      ]
     },
     "metadata": {},
     "output_type": "display_data"
    }
   ],
   "source": [
    "# Boxplot  \n",
    "sn.boxplot(data=data_new, x='logS')"
   ]
  },
  {
   "cell_type": "code",
   "execution_count": 12,
   "metadata": {},
   "outputs": [
    {
     "data": {
      "text/plain": [
       "(9648, 6)"
      ]
     },
     "execution_count": 12,
     "metadata": {},
     "output_type": "execute_result"
    }
   ],
   "source": [
    "data_new.shape"
   ]
  },
  {
   "cell_type": "markdown",
   "metadata": {},
   "source": [
    "<div style= \" text-align:left;color:red;font-size:25px;border-radius: 10px;padding: 20px 20px;\">\n",
    "1.3 Remove duplicates if any\n",
    "</div>"
   ]
  },
  {
   "cell_type": "code",
   "execution_count": 13,
   "metadata": {},
   "outputs": [],
   "source": [
    "# generate canonical SMILES\n",
    "def canonical_SMILES(smiles):\n",
    "    canon_smi = [Chem.CanonSmiles(smi) for smi in smiles]\n",
    "    return canon_smi"
   ]
  },
  {
   "cell_type": "code",
   "execution_count": 14,
   "metadata": {},
   "outputs": [
    {
     "data": {
      "text/plain": [
       "6"
      ]
     },
     "execution_count": 14,
     "metadata": {},
     "output_type": "execute_result"
    }
   ],
   "source": [
    "# Generate canonical Smiles\n",
    "canon_smiles = canonical_SMILES(data_new.SMILES)\n",
    "\n",
    "# Replace SMILES column wit Canonical SMILES\n",
    "data_new[\"SMILES\"] = canon_smiles\n",
    "\n",
    "# Create a list for duplicate smiles\n",
    "duplicate_smiles = data_new[data_new['SMILES'].duplicated()]['SMILES'].values\n",
    "len(duplicate_smiles)"
   ]
  },
  {
   "cell_type": "code",
   "execution_count": 15,
   "metadata": {},
   "outputs": [
    {
     "data": {
      "text/html": [
       "<div>\n",
       "<style scoped>\n",
       "    .dataframe tbody tr th:only-of-type {\n",
       "        vertical-align: middle;\n",
       "    }\n",
       "\n",
       "    .dataframe tbody tr th {\n",
       "        vertical-align: top;\n",
       "    }\n",
       "\n",
       "    .dataframe thead th {\n",
       "        text-align: right;\n",
       "    }\n",
       "</style>\n",
       "<table border=\"1\" class=\"dataframe\">\n",
       "  <thead>\n",
       "    <tr style=\"text-align: right;\">\n",
       "      <th></th>\n",
       "      <th>Compound ID</th>\n",
       "      <th>InChIKey</th>\n",
       "      <th>SMILES</th>\n",
       "      <th>logS</th>\n",
       "      <th>logP</th>\n",
       "      <th>MW</th>\n",
       "    </tr>\n",
       "  </thead>\n",
       "  <tbody>\n",
       "    <tr>\n",
       "      <th>5683</th>\n",
       "      <td>C1698</td>\n",
       "      <td>WUBBRNOQWQTFEX-UHFFFAOYSA-N</td>\n",
       "      <td>CC(=O)Nc1nnc(S(N)(=O)=O)s1</td>\n",
       "      <td>-2.44</td>\n",
       "      <td>1.00</td>\n",
       "      <td>222.25</td>\n",
       "    </tr>\n",
       "    <tr>\n",
       "      <th>5836</th>\n",
       "      <td>C943</td>\n",
       "      <td>BZKPWHYZMXOIDC-UHFFFAOYSA-N</td>\n",
       "      <td>CC(=O)Nc1nnc(S(N)(=O)=O)s1</td>\n",
       "      <td>-2.36</td>\n",
       "      <td>1.00</td>\n",
       "      <td>222.25</td>\n",
       "    </tr>\n",
       "    <tr>\n",
       "      <th>7282</th>\n",
       "      <td>C7745</td>\n",
       "      <td>VWPOSFSPZNDTMJ-UCWKZMIHSA-N</td>\n",
       "      <td>CC(C)(C)NCC(O)COc1cccc2c1C[C@H](O)[C@H](O)C2</td>\n",
       "      <td>-1.57</td>\n",
       "      <td>1.03</td>\n",
       "      <td>309.40</td>\n",
       "    </tr>\n",
       "    <tr>\n",
       "      <th>8063</th>\n",
       "      <td>C1707</td>\n",
       "      <td>IWVCMVBTMGNXQD-PXOLEDIWSA-N</td>\n",
       "      <td>CC(C)(C)NCC(O)COc1cccc2c1C[C@H](O)[C@H](O)C2</td>\n",
       "      <td>-1.01</td>\n",
       "      <td>1.03</td>\n",
       "      <td>309.40</td>\n",
       "    </tr>\n",
       "    <tr>\n",
       "      <th>1345</th>\n",
       "      <td>C199</td>\n",
       "      <td>WKRLQDKEXYKHJB-HFTRVMKXSA-N</td>\n",
       "      <td>C[C@]12CC[C@H]3C(=CCc4cc(O)ccc43)[C@@H]1CCC2=O</td>\n",
       "      <td>-5.28</td>\n",
       "      <td>3.74</td>\n",
       "      <td>268.35</td>\n",
       "    </tr>\n",
       "    <tr>\n",
       "      <th>1347</th>\n",
       "      <td>C1673</td>\n",
       "      <td>WKRLQDKEXYKHJB-HFTRVMKXSA-N</td>\n",
       "      <td>C[C@]12CC[C@H]3C(=CCc4cc(O)ccc43)[C@@H]1CCC2=O</td>\n",
       "      <td>-5.28</td>\n",
       "      <td>3.74</td>\n",
       "      <td>268.35</td>\n",
       "    </tr>\n",
       "    <tr>\n",
       "      <th>5152</th>\n",
       "      <td>C1696</td>\n",
       "      <td>QZUDBNBUXVUHMW-UHFFFAOYSA-N</td>\n",
       "      <td>Cc1cc(NS(=O)(=O)c2ccc(N)cc2)no1</td>\n",
       "      <td>-2.70</td>\n",
       "      <td>3.10</td>\n",
       "      <td>253.28</td>\n",
       "    </tr>\n",
       "    <tr>\n",
       "      <th>5319</th>\n",
       "      <td>C843</td>\n",
       "      <td>JLKIGFTWXXRPMT-UHFFFAOYSA-N</td>\n",
       "      <td>Cc1cc(NS(=O)(=O)c2ccc(N)cc2)no1</td>\n",
       "      <td>-2.62</td>\n",
       "      <td>3.10</td>\n",
       "      <td>253.28</td>\n",
       "    </tr>\n",
       "    <tr>\n",
       "      <th>3918</th>\n",
       "      <td>C604</td>\n",
       "      <td>NXFQHRVNIOXGAQ-YCRREMRBSA-N</td>\n",
       "      <td>O=C1CN(/N=C/c2ccc([N+](=O)[O-])o2)C(=O)N1</td>\n",
       "      <td>-3.38</td>\n",
       "      <td>0.86</td>\n",
       "      <td>238.16</td>\n",
       "    </tr>\n",
       "    <tr>\n",
       "      <th>4159</th>\n",
       "      <td>C1690</td>\n",
       "      <td>NXFQHRVNIOXGAQ-OQFOIZHKSA-N</td>\n",
       "      <td>O=C1CN(/N=C/c2ccc([N+](=O)[O-])o2)C(=O)N1</td>\n",
       "      <td>-3.24</td>\n",
       "      <td>0.86</td>\n",
       "      <td>238.16</td>\n",
       "    </tr>\n",
       "    <tr>\n",
       "      <th>9020</th>\n",
       "      <td>C1565</td>\n",
       "      <td>CPNGPNLZQNNVQM-UHFFFAOYSA-N</td>\n",
       "      <td>c1cnc2ncncc2n1</td>\n",
       "      <td>0.02</td>\n",
       "      <td>0.42</td>\n",
       "      <td>132.12</td>\n",
       "    </tr>\n",
       "    <tr>\n",
       "      <th>9021</th>\n",
       "      <td>C1709</td>\n",
       "      <td>RKUNBYITZUJHSG-SPUOUPEWSA-N</td>\n",
       "      <td>c1cnc2ncncc2n1</td>\n",
       "      <td>0.02</td>\n",
       "      <td>0.42</td>\n",
       "      <td>132.12</td>\n",
       "    </tr>\n",
       "  </tbody>\n",
       "</table>\n",
       "</div>"
      ],
      "text/plain": [
       "     Compound ID                      InChIKey  \\\n",
       "5683       C1698   WUBBRNOQWQTFEX-UHFFFAOYSA-N   \n",
       "5836        C943   BZKPWHYZMXOIDC-UHFFFAOYSA-N   \n",
       "7282       C7745   VWPOSFSPZNDTMJ-UCWKZMIHSA-N   \n",
       "8063       C1707   IWVCMVBTMGNXQD-PXOLEDIWSA-N   \n",
       "1345        C199   WKRLQDKEXYKHJB-HFTRVMKXSA-N   \n",
       "1347       C1673  WKRLQDKEXYKHJB-HFTRVMKXSA-N    \n",
       "5152       C1696   QZUDBNBUXVUHMW-UHFFFAOYSA-N   \n",
       "5319        C843   JLKIGFTWXXRPMT-UHFFFAOYSA-N   \n",
       "3918        C604   NXFQHRVNIOXGAQ-YCRREMRBSA-N   \n",
       "4159       C1690   NXFQHRVNIOXGAQ-OQFOIZHKSA-N   \n",
       "9020       C1565   CPNGPNLZQNNVQM-UHFFFAOYSA-N   \n",
       "9021       C1709   RKUNBYITZUJHSG-SPUOUPEWSA-N   \n",
       "\n",
       "                                              SMILES  logS  logP     MW  \n",
       "5683                      CC(=O)Nc1nnc(S(N)(=O)=O)s1 -2.44  1.00 222.25  \n",
       "5836                      CC(=O)Nc1nnc(S(N)(=O)=O)s1 -2.36  1.00 222.25  \n",
       "7282    CC(C)(C)NCC(O)COc1cccc2c1C[C@H](O)[C@H](O)C2 -1.57  1.03 309.40  \n",
       "8063    CC(C)(C)NCC(O)COc1cccc2c1C[C@H](O)[C@H](O)C2 -1.01  1.03 309.40  \n",
       "1345  C[C@]12CC[C@H]3C(=CCc4cc(O)ccc43)[C@@H]1CCC2=O -5.28  3.74 268.35  \n",
       "1347  C[C@]12CC[C@H]3C(=CCc4cc(O)ccc43)[C@@H]1CCC2=O -5.28  3.74 268.35  \n",
       "5152                 Cc1cc(NS(=O)(=O)c2ccc(N)cc2)no1 -2.70  3.10 253.28  \n",
       "5319                 Cc1cc(NS(=O)(=O)c2ccc(N)cc2)no1 -2.62  3.10 253.28  \n",
       "3918       O=C1CN(/N=C/c2ccc([N+](=O)[O-])o2)C(=O)N1 -3.38  0.86 238.16  \n",
       "4159       O=C1CN(/N=C/c2ccc([N+](=O)[O-])o2)C(=O)N1 -3.24  0.86 238.16  \n",
       "9020                                  c1cnc2ncncc2n1  0.02  0.42 132.12  \n",
       "9021                                  c1cnc2ncncc2n1  0.02  0.42 132.12  "
      ]
     },
     "execution_count": 15,
     "metadata": {},
     "output_type": "execute_result"
    }
   ],
   "source": [
    "# filter the duplicate smiles and sort them based on smiles\n",
    "data_new[data_new['SMILES'].isin(duplicate_smiles)].sort_values(by=['SMILES'])"
   ]
  },
  {
   "cell_type": "code",
   "execution_count": 16,
   "metadata": {},
   "outputs": [
    {
     "data": {
      "text/plain": [
       "9642"
      ]
     },
     "execution_count": 16,
     "metadata": {},
     "output_type": "execute_result"
    }
   ],
   "source": [
    "# Drop rows that contain duplicate SMILES and keep the first Structure\n",
    "data_cleaned = data_new.drop_duplicates(subset=['SMILES'], keep='first')\n",
    "len(data_cleaned)"
   ]
  },
  {
   "cell_type": "markdown",
   "metadata": {},
   "source": [
    "<div style= \" text-align:left;color:red;font-size:25px;border-radius: 10px;padding: 20px 20px;\">\n",
    "1.4 Filter training data that does not contain test data. \n",
    "</div>"
   ]
  },
  {
   "cell_type": "markdown",
   "metadata": {},
   "source": [
    "<div style= \" text-align:left;color:green;font-size:18px;padding: 20px 20px;\">\n",
    "Test Set data contains <b>100 Drug-like Compounds:-</b> determined in one lab using accurate solubility experiment. Please read the following references \n",
    "</div>"
   ]
  },
  {
   "cell_type": "markdown",
   "metadata": {},
   "source": [
    "[Reference for the publication](https://pubs.acs.org/doi/full/10.1021/mp500103r)\n",
    "\n",
    "[Reference for the test set data](https://risweb.st-andrews.ac.uk/portal/en/datasets/dls100-solubility-dataset(3a3a5abc-8458-4924-8e6c-b804347605e8).html)\n"
   ]
  },
  {
   "cell_type": "code",
   "execution_count": 17,
   "metadata": {
    "scrolled": true
   },
   "outputs": [
    {
     "data": {
      "text/html": [
       "<div>\n",
       "<style scoped>\n",
       "    .dataframe tbody tr th:only-of-type {\n",
       "        vertical-align: middle;\n",
       "    }\n",
       "\n",
       "    .dataframe tbody tr th {\n",
       "        vertical-align: top;\n",
       "    }\n",
       "\n",
       "    .dataframe thead th {\n",
       "        text-align: right;\n",
       "    }\n",
       "</style>\n",
       "<table border=\"1\" class=\"dataframe\">\n",
       "  <thead>\n",
       "    <tr style=\"text-align: right;\">\n",
       "      <th></th>\n",
       "      <th>Chemical name</th>\n",
       "      <th>SMILES</th>\n",
       "      <th>LogS exp (mol/L)</th>\n",
       "    </tr>\n",
       "  </thead>\n",
       "  <tbody>\n",
       "    <tr>\n",
       "      <th>0</th>\n",
       "      <td>Acetanilide</td>\n",
       "      <td>O=C(Nc1ccccc1)C</td>\n",
       "      <td>-1.40</td>\n",
       "    </tr>\n",
       "    <tr>\n",
       "      <th>1</th>\n",
       "      <td>Adenosine</td>\n",
       "      <td>c1nc(c2c(n1)n(cn2)[C@H]3[C@@H]([C@@H]([C@H](O3...</td>\n",
       "      <td>-1.73</td>\n",
       "    </tr>\n",
       "    <tr>\n",
       "      <th>2</th>\n",
       "      <td>Allopurinol</td>\n",
       "      <td>c1c2c([nH]n1)ncnc2O</td>\n",
       "      <td>-2.26</td>\n",
       "    </tr>\n",
       "    <tr>\n",
       "      <th>3</th>\n",
       "      <td>Trimethoprim</td>\n",
       "      <td>COc1cc(cc(c1OC)OC)Cc2cnc(nc2N)N</td>\n",
       "      <td>-2.95</td>\n",
       "    </tr>\n",
       "    <tr>\n",
       "      <th>4</th>\n",
       "      <td>Acetazolamide</td>\n",
       "      <td>O=S(=O)(c1nnc(s1)NC(=O)C)N</td>\n",
       "      <td>-2.44</td>\n",
       "    </tr>\n",
       "    <tr>\n",
       "      <th>...</th>\n",
       "      <td>...</td>\n",
       "      <td>...</td>\n",
       "      <td>...</td>\n",
       "    </tr>\n",
       "    <tr>\n",
       "      <th>95</th>\n",
       "      <td>Sulfanilamide</td>\n",
       "      <td>O=S(=O)(c1ccc(N)cc1)N</td>\n",
       "      <td>-1.36</td>\n",
       "    </tr>\n",
       "    <tr>\n",
       "      <th>96</th>\n",
       "      <td>Gliclazide</td>\n",
       "      <td>O=S(=O)(c1ccc(cc1)C)NC(=O)NN3CC2CCCC2C3</td>\n",
       "      <td>-4.29</td>\n",
       "    </tr>\n",
       "    <tr>\n",
       "      <th>97</th>\n",
       "      <td>Trihexyphenidyl</td>\n",
       "      <td>OC(c1ccccc1)(CCN2CCCCC2)C3CCCCC3</td>\n",
       "      <td>-5.20</td>\n",
       "    </tr>\n",
       "    <tr>\n",
       "      <th>98</th>\n",
       "      <td>Triphenylene</td>\n",
       "      <td>c1ccc2c(c1)c3ccccc3c4c2cccc4</td>\n",
       "      <td>-6.73</td>\n",
       "    </tr>\n",
       "    <tr>\n",
       "      <th>99</th>\n",
       "      <td>Mifepristone</td>\n",
       "      <td>O=C5\\C=C4/C(=C3/[C@@H](c1ccc(N(C)C)cc1)C[C@]2(...</td>\n",
       "      <td>-5.90</td>\n",
       "    </tr>\n",
       "  </tbody>\n",
       "</table>\n",
       "<p>100 rows × 3 columns</p>\n",
       "</div>"
      ],
      "text/plain": [
       "      Chemical name                                             SMILES  \\\n",
       "0       Acetanilide                                    O=C(Nc1ccccc1)C   \n",
       "1         Adenosine  c1nc(c2c(n1)n(cn2)[C@H]3[C@@H]([C@@H]([C@H](O3...   \n",
       "2       Allopurinol                                c1c2c([nH]n1)ncnc2O   \n",
       "3      Trimethoprim                    COc1cc(cc(c1OC)OC)Cc2cnc(nc2N)N   \n",
       "4     Acetazolamide                         O=S(=O)(c1nnc(s1)NC(=O)C)N   \n",
       "..              ...                                                ...   \n",
       "95    Sulfanilamide                              O=S(=O)(c1ccc(N)cc1)N   \n",
       "96       Gliclazide            O=S(=O)(c1ccc(cc1)C)NC(=O)NN3CC2CCCC2C3   \n",
       "97  Trihexyphenidyl                   OC(c1ccccc1)(CCN2CCCCC2)C3CCCCC3   \n",
       "98     Triphenylene                       c1ccc2c(c1)c3ccccc3c4c2cccc4   \n",
       "99     Mifepristone  O=C5\\C=C4/C(=C3/[C@@H](c1ccc(N(C)C)cc1)C[C@]2(...   \n",
       "\n",
       "    LogS exp (mol/L)  \n",
       "0              -1.40  \n",
       "1              -1.73  \n",
       "2              -2.26  \n",
       "3              -2.95  \n",
       "4              -2.44  \n",
       "..               ...  \n",
       "95             -1.36  \n",
       "96             -4.29  \n",
       "97             -5.20  \n",
       "98             -6.73  \n",
       "99             -5.90  \n",
       "\n",
       "[100 rows x 3 columns]"
      ]
     },
     "execution_count": 17,
     "metadata": {},
     "output_type": "execute_result"
    }
   ],
   "source": [
    "test_set = pd.read_csv(r\"d:/Drug_Like_Solubility _100.csv\")\n",
    "test_set"
   ]
  },
  {
   "cell_type": "code",
   "execution_count": 18,
   "metadata": {},
   "outputs": [
    {
     "data": {
      "text/plain": [
       "0"
      ]
     },
     "execution_count": 18,
     "metadata": {},
     "output_type": "execute_result"
    }
   ],
   "source": [
    "# Generate canonical Smiles\n",
    "canon_smiles = canonical_SMILES(test_set.SMILES)\n",
    "\n",
    "# Replace SMILES column wit Canonical SMILES\n",
    "test_set[\"SMILES\"] = canon_smiles\n",
    "\n",
    "# Create a list for duplicate smiles\n",
    "duplicate_test_smiles = test_set[test_set['SMILES'].duplicated()]['SMILES'].values\n",
    "len(duplicate_test_smiles)"
   ]
  },
  {
   "cell_type": "code",
   "execution_count": 19,
   "metadata": {},
   "outputs": [
    {
     "name": "stdout",
     "output_type": "stream",
     "text": [
      "Compounds present in training set:93\n"
     ]
    }
   ],
   "source": [
    "# Molecules used in training and test of the model\n",
    "test_set_SMILES = test_set.SMILES.values\n",
    "\n",
    "# Filter molecules that are not present in the test set\n",
    "# or exclude structures that are present in the test set from training set \n",
    "data_cleaned_final = data_cleaned[~data_cleaned['SMILES'].isin(test_set_SMILES)]\n",
    "print(f'Compounds present in training set:{len(data_cleaned) - len(data_cleaned_final)}')"
   ]
  },
  {
   "cell_type": "code",
   "execution_count": 20,
   "metadata": {},
   "outputs": [
    {
     "data": {
      "text/plain": [
       "(9549, 6)"
      ]
     },
     "execution_count": 20,
     "metadata": {},
     "output_type": "execute_result"
    }
   ],
   "source": [
    "data_cleaned_final.shape"
   ]
  },
  {
   "cell_type": "code",
   "execution_count": 21,
   "metadata": {},
   "outputs": [
    {
     "data": {
      "text/html": [
       "<div>\n",
       "<style scoped>\n",
       "    .dataframe tbody tr th:only-of-type {\n",
       "        vertical-align: middle;\n",
       "    }\n",
       "\n",
       "    .dataframe tbody tr th {\n",
       "        vertical-align: top;\n",
       "    }\n",
       "\n",
       "    .dataframe thead th {\n",
       "        text-align: right;\n",
       "    }\n",
       "</style>\n",
       "<table border=\"1\" class=\"dataframe\">\n",
       "  <thead>\n",
       "    <tr style=\"text-align: right;\">\n",
       "      <th></th>\n",
       "      <th>Chemical name</th>\n",
       "      <th>SMILES</th>\n",
       "      <th>LogS exp (mol/L)</th>\n",
       "    </tr>\n",
       "  </thead>\n",
       "  <tbody>\n",
       "    <tr>\n",
       "      <th>0</th>\n",
       "      <td>Acetanilide</td>\n",
       "      <td>CC(=O)Nc1ccccc1</td>\n",
       "      <td>-1.40</td>\n",
       "    </tr>\n",
       "    <tr>\n",
       "      <th>1</th>\n",
       "      <td>Adenosine</td>\n",
       "      <td>Nc1ncnc2c1ncn2[C@@H]1O[C@H](CO)[C@@H](O)[C@H]1O</td>\n",
       "      <td>-1.73</td>\n",
       "    </tr>\n",
       "    <tr>\n",
       "      <th>2</th>\n",
       "      <td>Allopurinol</td>\n",
       "      <td>Oc1ncnc2[nH]ncc12</td>\n",
       "      <td>-2.26</td>\n",
       "    </tr>\n",
       "    <tr>\n",
       "      <th>3</th>\n",
       "      <td>Trimethoprim</td>\n",
       "      <td>COc1cc(Cc2cnc(N)nc2N)cc(OC)c1OC</td>\n",
       "      <td>-2.95</td>\n",
       "    </tr>\n",
       "    <tr>\n",
       "      <th>4</th>\n",
       "      <td>Acetazolamide</td>\n",
       "      <td>CC(=O)Nc1nnc(S(N)(=O)=O)s1</td>\n",
       "      <td>-2.44</td>\n",
       "    </tr>\n",
       "    <tr>\n",
       "      <th>...</th>\n",
       "      <td>...</td>\n",
       "      <td>...</td>\n",
       "      <td>...</td>\n",
       "    </tr>\n",
       "    <tr>\n",
       "      <th>95</th>\n",
       "      <td>Sulfanilamide</td>\n",
       "      <td>Nc1ccc(S(N)(=O)=O)cc1</td>\n",
       "      <td>-1.36</td>\n",
       "    </tr>\n",
       "    <tr>\n",
       "      <th>96</th>\n",
       "      <td>Gliclazide</td>\n",
       "      <td>Cc1ccc(S(=O)(=O)NC(=O)NN2CC3CCCC3C2)cc1</td>\n",
       "      <td>-4.29</td>\n",
       "    </tr>\n",
       "    <tr>\n",
       "      <th>97</th>\n",
       "      <td>Trihexyphenidyl</td>\n",
       "      <td>OC(CCN1CCCCC1)(c1ccccc1)C1CCCCC1</td>\n",
       "      <td>-5.20</td>\n",
       "    </tr>\n",
       "    <tr>\n",
       "      <th>98</th>\n",
       "      <td>Triphenylene</td>\n",
       "      <td>c1ccc2c(c1)c1ccccc1c1ccccc21</td>\n",
       "      <td>-6.73</td>\n",
       "    </tr>\n",
       "    <tr>\n",
       "      <th>99</th>\n",
       "      <td>Mifepristone</td>\n",
       "      <td>CC#C[C@]1(O)CC[C@H]2[C@@H]3CCC4=CC(=O)CCC4=C3[...</td>\n",
       "      <td>-5.90</td>\n",
       "    </tr>\n",
       "  </tbody>\n",
       "</table>\n",
       "<p>98 rows × 3 columns</p>\n",
       "</div>"
      ],
      "text/plain": [
       "      Chemical name                                             SMILES  \\\n",
       "0       Acetanilide                                    CC(=O)Nc1ccccc1   \n",
       "1         Adenosine    Nc1ncnc2c1ncn2[C@@H]1O[C@H](CO)[C@@H](O)[C@H]1O   \n",
       "2       Allopurinol                                  Oc1ncnc2[nH]ncc12   \n",
       "3      Trimethoprim                    COc1cc(Cc2cnc(N)nc2N)cc(OC)c1OC   \n",
       "4     Acetazolamide                         CC(=O)Nc1nnc(S(N)(=O)=O)s1   \n",
       "..              ...                                                ...   \n",
       "95    Sulfanilamide                              Nc1ccc(S(N)(=O)=O)cc1   \n",
       "96       Gliclazide            Cc1ccc(S(=O)(=O)NC(=O)NN2CC3CCCC3C2)cc1   \n",
       "97  Trihexyphenidyl                   OC(CCN1CCCCC1)(c1ccccc1)C1CCCCC1   \n",
       "98     Triphenylene                       c1ccc2c(c1)c1ccccc1c1ccccc21   \n",
       "99     Mifepristone  CC#C[C@]1(O)CC[C@H]2[C@@H]3CCC4=CC(=O)CCC4=C3[...   \n",
       "\n",
       "    LogS exp (mol/L)  \n",
       "0              -1.40  \n",
       "1              -1.73  \n",
       "2              -2.26  \n",
       "3              -2.95  \n",
       "4              -2.44  \n",
       "..               ...  \n",
       "95             -1.36  \n",
       "96             -4.29  \n",
       "97             -5.20  \n",
       "98             -6.73  \n",
       "99             -5.90  \n",
       "\n",
       "[98 rows x 3 columns]"
      ]
     },
     "execution_count": 21,
     "metadata": {},
     "output_type": "execute_result"
    }
   ],
   "source": [
    "# The test set compounds should within the training data distribution\n",
    "test_set = test_set[test_set['LogS exp (mol/L)'].apply(lambda x: x > -7.5 and x < 1.7)]\n",
    "test_set"
   ]
  },
  {
   "cell_type": "markdown",
   "metadata": {},
   "source": [
    "\n",
    "\n",
    "\n",
    "<div style= \" background-color: lightcyan;text-align:left;color:blue;font-size:20px;border-radius: 10px;padding: 20px 20px;\">\n",
    "2. Calculate RDkit Molecular Descriptors, which are molecular features\n",
    "\n",
    "</div>"
   ]
  },
  {
   "cell_type": "code",
   "execution_count": 22,
   "metadata": {},
   "outputs": [
    {
     "name": "stderr",
     "output_type": "stream",
     "text": [
      "100%|██████████████████████████████████████████████████████████████████████████████| 9549/9549 [02:23<00:00, 66.48it/s]\n"
     ]
    }
   ],
   "source": [
    "def RDkit_descriptors(smiles):\n",
    "    mols = [Chem.MolFromSmiles(i) for i in smiles] \n",
    "    calc = MoleculeDescriptors.MolecularDescriptorCalculator([x[0] \n",
    "                                    for x in Descriptors._descList])\n",
    "    desc_names = calc.GetDescriptorNames()\n",
    "    \n",
    "    Mol_descriptors =[]\n",
    "    for mol in tqdm(mols):\n",
    "        # add hydrogens to molecules\n",
    "        mol=Chem.AddHs(mol)\n",
    "        # Calculate all 200 descriptors for each molecule\n",
    "        descriptors = calc.CalcDescriptors(mol)\n",
    "        Mol_descriptors.append(descriptors)\n",
    "    return Mol_descriptors,desc_names \n",
    "\n",
    "# Function call\n",
    "Mol_descriptors,desc_names = RDkit_descriptors(data_cleaned_final['SMILES'])"
   ]
  },
  {
   "cell_type": "code",
   "execution_count": 23,
   "metadata": {
    "scrolled": true
   },
   "outputs": [
    {
     "data": {
      "text/html": [
       "<div>\n",
       "<style scoped>\n",
       "    .dataframe tbody tr th:only-of-type {\n",
       "        vertical-align: middle;\n",
       "    }\n",
       "\n",
       "    .dataframe tbody tr th {\n",
       "        vertical-align: top;\n",
       "    }\n",
       "\n",
       "    .dataframe thead th {\n",
       "        text-align: right;\n",
       "    }\n",
       "</style>\n",
       "<table border=\"1\" class=\"dataframe\">\n",
       "  <thead>\n",
       "    <tr style=\"text-align: right;\">\n",
       "      <th></th>\n",
       "      <th>MaxEStateIndex</th>\n",
       "      <th>MinEStateIndex</th>\n",
       "      <th>MaxAbsEStateIndex</th>\n",
       "      <th>MinAbsEStateIndex</th>\n",
       "      <th>qed</th>\n",
       "      <th>MolWt</th>\n",
       "      <th>HeavyAtomMolWt</th>\n",
       "      <th>ExactMolWt</th>\n",
       "      <th>NumValenceElectrons</th>\n",
       "      <th>NumRadicalElectrons</th>\n",
       "      <th>...</th>\n",
       "      <th>fr_sulfide</th>\n",
       "      <th>fr_sulfonamd</th>\n",
       "      <th>fr_sulfone</th>\n",
       "      <th>fr_term_acetylene</th>\n",
       "      <th>fr_tetrazole</th>\n",
       "      <th>fr_thiazole</th>\n",
       "      <th>fr_thiocyan</th>\n",
       "      <th>fr_thiophene</th>\n",
       "      <th>fr_unbrch_alkane</th>\n",
       "      <th>fr_urea</th>\n",
       "    </tr>\n",
       "  </thead>\n",
       "  <tbody>\n",
       "    <tr>\n",
       "      <th>0</th>\n",
       "      <td>9.25</td>\n",
       "      <td>-4.68</td>\n",
       "      <td>9.25</td>\n",
       "      <td>0.05</td>\n",
       "      <td>0.55</td>\n",
       "      <td>407.05</td>\n",
       "      <td>379.83</td>\n",
       "      <td>406.13</td>\n",
       "      <td>140</td>\n",
       "      <td>0</td>\n",
       "      <td>...</td>\n",
       "      <td>1</td>\n",
       "      <td>0</td>\n",
       "      <td>0</td>\n",
       "      <td>0</td>\n",
       "      <td>0</td>\n",
       "      <td>0</td>\n",
       "      <td>0</td>\n",
       "      <td>0</td>\n",
       "      <td>0</td>\n",
       "      <td>0</td>\n",
       "    </tr>\n",
       "    <tr>\n",
       "      <th>1</th>\n",
       "      <td>14.36</td>\n",
       "      <td>-5.72</td>\n",
       "      <td>14.36</td>\n",
       "      <td>0.00</td>\n",
       "      <td>0.41</td>\n",
       "      <td>552.49</td>\n",
       "      <td>522.25</td>\n",
       "      <td>551.14</td>\n",
       "      <td>194</td>\n",
       "      <td>0</td>\n",
       "      <td>...</td>\n",
       "      <td>0</td>\n",
       "      <td>0</td>\n",
       "      <td>0</td>\n",
       "      <td>0</td>\n",
       "      <td>0</td>\n",
       "      <td>0</td>\n",
       "      <td>0</td>\n",
       "      <td>0</td>\n",
       "      <td>0</td>\n",
       "      <td>0</td>\n",
       "    </tr>\n",
       "    <tr>\n",
       "      <th>2</th>\n",
       "      <td>8.72</td>\n",
       "      <td>-4.55</td>\n",
       "      <td>8.72</td>\n",
       "      <td>0.55</td>\n",
       "      <td>0.44</td>\n",
       "      <td>292.43</td>\n",
       "      <td>268.23</td>\n",
       "      <td>292.19</td>\n",
       "      <td>114</td>\n",
       "      <td>0</td>\n",
       "      <td>...</td>\n",
       "      <td>0</td>\n",
       "      <td>0</td>\n",
       "      <td>0</td>\n",
       "      <td>0</td>\n",
       "      <td>0</td>\n",
       "      <td>0</td>\n",
       "      <td>0</td>\n",
       "      <td>0</td>\n",
       "      <td>0</td>\n",
       "      <td>0</td>\n",
       "    </tr>\n",
       "    <tr>\n",
       "      <th>3</th>\n",
       "      <td>13.83</td>\n",
       "      <td>-5.29</td>\n",
       "      <td>13.83</td>\n",
       "      <td>0.86</td>\n",
       "      <td>0.12</td>\n",
       "      <td>702.90</td>\n",
       "      <td>656.54</td>\n",
       "      <td>702.30</td>\n",
       "      <td>262</td>\n",
       "      <td>0</td>\n",
       "      <td>...</td>\n",
       "      <td>0</td>\n",
       "      <td>0</td>\n",
       "      <td>0</td>\n",
       "      <td>0</td>\n",
       "      <td>0</td>\n",
       "      <td>0</td>\n",
       "      <td>0</td>\n",
       "      <td>0</td>\n",
       "      <td>0</td>\n",
       "      <td>0</td>\n",
       "    </tr>\n",
       "    <tr>\n",
       "      <th>4</th>\n",
       "      <td>8.30</td>\n",
       "      <td>-5.38</td>\n",
       "      <td>8.30</td>\n",
       "      <td>1.26</td>\n",
       "      <td>0.27</td>\n",
       "      <td>297.57</td>\n",
       "      <td>254.23</td>\n",
       "      <td>297.34</td>\n",
       "      <td>128</td>\n",
       "      <td>0</td>\n",
       "      <td>...</td>\n",
       "      <td>0</td>\n",
       "      <td>0</td>\n",
       "      <td>0</td>\n",
       "      <td>0</td>\n",
       "      <td>0</td>\n",
       "      <td>0</td>\n",
       "      <td>0</td>\n",
       "      <td>0</td>\n",
       "      <td>0</td>\n",
       "      <td>0</td>\n",
       "    </tr>\n",
       "  </tbody>\n",
       "</table>\n",
       "<p>5 rows × 200 columns</p>\n",
       "</div>"
      ],
      "text/plain": [
       "   MaxEStateIndex  MinEStateIndex  MaxAbsEStateIndex  MinAbsEStateIndex  qed  \\\n",
       "0            9.25           -4.68               9.25               0.05 0.55   \n",
       "1           14.36           -5.72              14.36               0.00 0.41   \n",
       "2            8.72           -4.55               8.72               0.55 0.44   \n",
       "3           13.83           -5.29              13.83               0.86 0.12   \n",
       "4            8.30           -5.38               8.30               1.26 0.27   \n",
       "\n",
       "   MolWt  HeavyAtomMolWt  ExactMolWt  NumValenceElectrons  \\\n",
       "0 407.05          379.83      406.13                  140   \n",
       "1 552.49          522.25      551.14                  194   \n",
       "2 292.43          268.23      292.19                  114   \n",
       "3 702.90          656.54      702.30                  262   \n",
       "4 297.57          254.23      297.34                  128   \n",
       "\n",
       "   NumRadicalElectrons  ...  fr_sulfide  fr_sulfonamd  fr_sulfone  \\\n",
       "0                    0  ...           1             0           0   \n",
       "1                    0  ...           0             0           0   \n",
       "2                    0  ...           0             0           0   \n",
       "3                    0  ...           0             0           0   \n",
       "4                    0  ...           0             0           0   \n",
       "\n",
       "   fr_term_acetylene  fr_tetrazole  fr_thiazole  fr_thiocyan  fr_thiophene  \\\n",
       "0                  0             0            0            0             0   \n",
       "1                  0             0            0            0             0   \n",
       "2                  0             0            0            0             0   \n",
       "3                  0             0            0            0             0   \n",
       "4                  0             0            0            0             0   \n",
       "\n",
       "   fr_unbrch_alkane  fr_urea  \n",
       "0                 0        0  \n",
       "1                 0        0  \n",
       "2                 0        0  \n",
       "3                 0        0  \n",
       "4                 0        0  \n",
       "\n",
       "[5 rows x 200 columns]"
      ]
     },
     "execution_count": 23,
     "metadata": {},
     "output_type": "execute_result"
    }
   ],
   "source": [
    "# Put the descriptors to dataframe\n",
    "Dataset_with_200_descriptors = pd.DataFrame(Mol_descriptors,columns=desc_names)\n",
    "Dataset_with_200_descriptors.head()"
   ]
  },
  {
   "cell_type": "code",
   "execution_count": 24,
   "metadata": {},
   "outputs": [
    {
     "data": {
      "text/plain": [
       "(9549, 200)"
      ]
     },
     "execution_count": 24,
     "metadata": {},
     "output_type": "execute_result"
    }
   ],
   "source": [
    "# This data will be used for training(90%) and validation set(10%)\n",
    "Dataset_with_200_descriptors.shape"
   ]
  },
  {
   "cell_type": "markdown",
   "metadata": {},
   "source": [
    "<div style= \" background-color: lightcyan;text-align:left;color:blue;font-size:20px;border-radius: 10px;padding: 20px 20px;\">\n",
    "3.\tSplit the Compounds for Training and Validation set\n",
    "</div>"
   ]
  },
  {
   "cell_type": "code",
   "execution_count": 25,
   "metadata": {},
   "outputs": [],
   "source": [
    "# Train-validation split\n",
    "X_train, X_valid, y_train, y_valid = train_test_split(Dataset_with_200_descriptors,\n",
    "                                                      data_cleaned_final.logS,\n",
    "                                                      test_size=0.1,random_state=42)"
   ]
  },
  {
   "cell_type": "code",
   "execution_count": 26,
   "metadata": {},
   "outputs": [],
   "source": [
    "# Standardize the features\n",
    "scaler = StandardScaler()\n",
    "scaler.fit(X_train)\n",
    "X_train_scaled = scaler.transform(X_train)\n",
    "X_valid_scaled = scaler.transform(X_valid)"
   ]
  },
  {
   "cell_type": "markdown",
   "metadata": {},
   "source": [
    "<div style= \" background-color: lightcyan;text-align:left;color:blue;font-size:20px;border-radius: 10px;padding: 20px 20px;\">\n",
    "4.\tSelect Machine Learning Models\n",
    "</div>\n"
   ]
  },
  {
   "cell_type": "code",
   "execution_count": null,
   "metadata": {},
   "outputs": [
    {
     "name": "stderr",
     "output_type": "stream",
     "text": [
      " 31%|█████████████████████████▍                                                        | 13/42 [01:10<04:04,  8.43s/it]"
     ]
    }
   ],
   "source": [
    "# https://github.com/shankarpandala/lazypredict\n",
    "# Training of the dataset was achieved using 42 [regressors]\n",
    "lregs = LazyRegressor(verbose=0,ignore_warnings=True, custom_metric=None,random_state=42)\n",
    "models, prediction_tests = lregs.fit(X_train_scaled, X_valid_scaled, y_train, y_valid)"
   ]
  },
  {
   "cell_type": "code",
   "execution_count": null,
   "metadata": {},
   "outputs": [],
   "source": [
    "#The top three models\n",
    "prediction_tests[:3]"
   ]
  },
  {
   "cell_type": "markdown",
   "metadata": {},
   "source": [
    "<div style= \" background-color: lightcyan;text-align:left;color:blue;font-size:20px;border-radius: 10px;padding: 20px 20px;\">\n",
    "5.\tFine-tune the Selected Model and Save the Model\n",
    "</div>"
   ]
  },
  {
   "cell_type": "code",
   "execution_count": null,
   "metadata": {},
   "outputs": [],
   "source": [
    "# -----\n",
    "# First round GridSearch\n",
    "# -----\n",
    "\n",
    "# params = {'max_depth' : list(range(2, 32, 8)), # step by 8\n",
    "#          'n_estimators' : list(range(1, 1000, 100)),  # step by 100\n",
    "#          'learning_rate' : list(np.arange(0.01, 1.02, 0.25))}\n",
    "\n",
    "# from sklearn.model_selection import GridSearchCV\n",
    "# grid_search = GridSearchCV(LGBMRegressor(random_state = 42),\n",
    "#                            param_grid=params, cv=5, verbose=1)\n",
    "\n",
    "# grid_search.fit(X_train, y_train)\n",
    "# print(\"The best parameters are: \", grid_search.best_params_)\n",
    "\n",
    "# #The best parameters are:  {'learning_rate': 0.01, 'max_depth': 26, 'n_estimators': 901}"
   ]
  },
  {
   "cell_type": "code",
   "execution_count": null,
   "metadata": {},
   "outputs": [],
   "source": [
    "# -----\n",
    "# Second round GridSearch\n",
    "# -----\n",
    "# from sklearn.model_selection import GridSearchCV\n",
    "# params = {'max_depth' : list(range(19, 36, 4)), # step by4\n",
    "#          'n_estimators' : list(range(900, 1200, 50)),  # step by 50\n",
    "#          'learning_rate' : list(np.arange(0.01, 0.05, 0.01))}\n",
    "\n",
    "# grid_search_gbr_ref = GridSearchCV(LGBMRegressor(random_state = 42),\n",
    "#                            param_grid=params, cv=3,n_jobs=4, verbose=1)\n",
    "\n",
    "# grid_search_gbr_ref.fit(X_train, y_train)\n",
    "# print(\"The best parameters are: \", grid_search_gbr_ref.best_params_)\n",
    "\n",
    "\n",
    "\n",
    "#--- The best parameters are:  {'learning_rate': 0.04, 'max_depth': 26, 'n_estimators': 1150} --"
   ]
  },
  {
   "cell_type": "markdown",
   "metadata": {},
   "source": [
    "<div style= \" background-color: lightcyan;text-align:left;color:blue;font-size:20px;border-radius: 10px;padding: 20px 20px;\">\n",
    "6.\tUse the Optimal Model for Training and Test data\n",
    "</div>"
   ]
  },
  {
   "cell_type": "code",
   "execution_count": null,
   "metadata": {},
   "outputs": [],
   "source": [
    "#--- The best parameters are:  {'learning_rate': 0.04, 'max_depth': 26, 'n_estimators': 1150} --\n",
    "model = LGBMRegressor(n_estimators=1150, max_depth= 26, learning_rate= 0.04, random_state=42)\n",
    "model.fit(X_train_scaled,y_train)\n",
    "y_preds = model.predict(X_valid_scaled)"
   ]
  },
  {
   "cell_type": "code",
   "execution_count": null,
   "metadata": {},
   "outputs": [],
   "source": [
    "# A plotting function\n",
    "def plot_data(actual, predicted, title):\n",
    "     # model performance using RMSE\n",
    "    rmse = np.sqrt(mean_squared_error(actual, predicted))  \n",
    "\n",
    "    # R^2 (coefficient of determination) : \n",
    "    R2 =r2_score(actual, predicted)\n",
    "    plt.figure(figsize=(8,6))\n",
    "\n",
    "    # Plot the figure \n",
    "    sn.regplot(x=predicted , y=actual,line_kws={\"lw\":2,'ls':'--','color':'red',\"alpha\":0.7})\n",
    "    plt.title(title, color='red')\n",
    "    plt.xlabel('Predicted logS(mol/L)', color='blue')\n",
    "    plt.ylabel('Experimental logS(mol/L)', color ='blue')\n",
    "    plt.xlim(-8,1)\n",
    "    \n",
    "    plt.grid(alpha=0.3)\n",
    "    R2 = mpatches.Patch(label=\"R2={:04.2f}\".format(R2))\n",
    "    rmse = mpatches.Patch(label=\"RMSE={:04.2f}\".format(rmse))\n",
    "    plt.legend(handles=[R2, rmse])"
   ]
  },
  {
   "cell_type": "code",
   "execution_count": null,
   "metadata": {},
   "outputs": [],
   "source": [
    "# Function call for plotting validation set\n",
    "sn.set_theme(style=\"whitegrid\")\n",
    "plot_data(y_valid,y_preds,'Validation data: 955 or 10% of the data for validation')"
   ]
  },
  {
   "cell_type": "code",
   "execution_count": null,
   "metadata": {},
   "outputs": [],
   "source": [
    "#Calculate molecular descriptors for the test data or 98 compounds\n",
    "Mol_descriptors_test,desc_names_test = RDkit_descriptors(test_set['SMILES'])\n",
    "test_set_with_200_descriptors = pd.DataFrame(Mol_descriptors_test,columns=desc_names_test)"
   ]
  },
  {
   "cell_type": "code",
   "execution_count": null,
   "metadata": {},
   "outputs": [],
   "source": [
    "# Standard scaler - transform\n",
    "X_scaled_test = scaler.transform(test_set_with_200_descriptors)"
   ]
  },
  {
   "cell_type": "code",
   "execution_count": null,
   "metadata": {},
   "outputs": [],
   "source": [
    "# Predict solubility of the test data\n",
    "y_test_preds = model.predict(X_scaled_test)"
   ]
  },
  {
   "cell_type": "code",
   "execution_count": null,
   "metadata": {},
   "outputs": [],
   "source": [
    "# function call for plotting testing set\n",
    "sn.set_theme(style=\"whitegrid\")\n",
    "plot_data(test_set['LogS exp (mol/L)'], y_test_preds, \n",
    "           'Test data : 98 Drug-like Molecules')"
   ]
  },
  {
   "cell_type": "markdown",
   "metadata": {},
   "source": [
    "<div style= \"background-color: lightcyan;text-align:left;color:blue;font-size:20px;border-radius: 10px;padding: 20px 20px;\">\n",
    "7. Save the Trained Model and Standard Scaler for New Data\n",
    "</div>"
   ]
  },
  {
   "cell_type": "code",
   "execution_count": null,
   "metadata": {},
   "outputs": [],
   "source": [
    "import pickle\n",
    "with open('model.pkl','wb') as f:\n",
    "    pickle.dump(model,f)\n",
    "\n",
    "with open('scaler.pkl','wb') as f:\n",
    "    pickle.dump(scaler,f)"
   ]
  },
  {
   "cell_type": "markdown",
   "metadata": {},
   "source": [
    "<div style = \"color:darkgreen;\">\n",
    "<h1>Practice  problem</h1>\n",
    "<p style=\"color:blue;font-size:15px;\"> \n",
    "Instead of Light GBM regressor, use <i style='color:red'> HistGradientBoostingRegressor</i> and apply the procedures that we used for the Light GBM model. Predict the solubilities of the test set and compare the results with the light GBM model. Save your model for future use.</p>\n",
    "</div>"
   ]
  },
  {
   "cell_type": "markdown",
   "metadata": {},
   "source": [
    "## Load the Model and Standard Scaler"
   ]
  },
  {
   "cell_type": "code",
   "execution_count": null,
   "metadata": {},
   "outputs": [],
   "source": [
    "# with open('lgbm_model','rb') as f:\n",
    "#     model = pickle.load(f)\n",
    "\n",
    "# with open('scaler','rb') as f:\n",
    "#     model = pickle.load(f)"
   ]
  }
 ],
 "metadata": {
  "kernelspec": {
   "display_name": "Python 3",
   "language": "python",
   "name": "python3"
  },
  "language_info": {
   "codemirror_mode": {
    "name": "ipython",
    "version": 3
   },
   "file_extension": ".py",
   "mimetype": "text/x-python",
   "name": "python",
   "nbconvert_exporter": "python",
   "pygments_lexer": "ipython3",
   "version": "3.8.5"
  }
 },
 "nbformat": 4,
 "nbformat_minor": 4
}
